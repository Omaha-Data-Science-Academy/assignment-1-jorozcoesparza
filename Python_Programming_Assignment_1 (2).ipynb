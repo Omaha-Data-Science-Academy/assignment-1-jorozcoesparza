{
  "cells": [
    {
      "cell_type": "markdown",
      "metadata": {
        "id": "HzEhSIAsg9eO"
      },
      "source": [
        "## Python Programming Assignment 1"
      ]
    },
    {
      "cell_type": "markdown",
      "metadata": {
        "id": "65Uh6IdTg9eP"
      },
      "source": [
        "Write code in this Jupyter Notebook to solve the following problems. Please upload this **Notebook** with your solutions to your GitHub repository."
      ]
    },
    {
      "cell_type": "markdown",
      "metadata": {
        "id": "r4Z8HEARg9eP"
      },
      "source": [
        "## Objectives:\n",
        "\n",
        "- Demonstrate how to obtain user input into a Python script\n",
        "- Demonstrate outputting useful information to the user in the correct format\n",
        "- Use Python numerical and string variables to calculate values and output these to the user\n",
        "- Demonstrate use of the while loop and if statements"
      ]
    },
    {
      "cell_type": "markdown",
      "metadata": {
        "id": "Q9hu9Wm1g9eQ"
      },
      "source": [
        "## General Guidelines:\n",
        "\n",
        "- In each code block, do NOT delete the ### comment at the top of a cell (it's needed for the auto-grading!)\n",
        "  - The examples given are samples of how we will test/grade your code.\n",
        "    - Please ensure your code outputs the exact same information / format!\n",
        "    - In addition to the given example, the autograder will test other examples\n",
        "- Please format your input and output strings to be user friendly. See Module 2.12.2. For example, in the first problem below, format the tip to two decimal places like 15.25 instead of 15.25000001.\n",
        "- Limited user input validation and error checking is encouraged on this assignment. Each question below will indicate the type of input that you can expect. (for example, if the question states the input will be an integer you can expect the user to input an integer and do not need to check to ensure it is an integer versus a float or a string)\n",
        "- Adding comments in your code is strongly suggested but won't be graded.\n",
        "- The examples given are samples of how we will test/grade your code. Please ensure your scripts output the same information.\n",
        "- If you are stuck on a problem or do not understand a question - please come to office hours or ask questions to the class slack group (please don't post your code though). If it is a coding problem send a private message to your instructor.\n",
        "- Hints are given in some of the questions; these are optional so you do NOT need to use the hint (or code your answer that way) as long as your code meets the requirements of the problem.\n",
        "- You may use any libraries from the Python Standard Library for this assignment: https://docs.python.org/3/library/"
      ]
    },
    {
      "cell_type": "markdown",
      "metadata": {
        "id": "CA6Bf2U8g9eQ"
      },
      "source": [
        "## Grading Rubric\n",
        "\n",
        "General grading rubric guidelines / philosophy:\n",
        "\n",
        "- The total possible points will be shown for each question\n",
        "- Please read each question carefully to understand the requirements\n",
        "- Points for each question are rewarded based on how well your code fulfills those requirements\n",
        "- Some problems have an example given to help show what is needed and how to format the answer\n",
        "- For the first question (2-1) below, a detailed grading rubric is given as an example.\n",
        "- For the rest of the questions, its up to you to determine the requirements and code them!"
      ]
    },
    {
      "cell_type": "markdown",
      "metadata": {
        "id": "UD9KHBI0g9eR"
      },
      "source": [
        "### 2-1. Tip Calculator (20 points)\n",
        "\n",
        "Below, you can see the script we wrote to compute the tip for a meal. Fix it so that it works correctly. Also change the last print lines to format the output to 2 decimal places. Expect the input to be a **number.**\n",
        "\n",
        "Example Grading Rubric:\n",
        "- 5 points: fixing the crash so the program works with int numbers (for example: 10)\n",
        "- 5 points: fixing the crash so the program works with float numbers (for example: 4.99)\n",
        "- 5 points: formatting the tip output correctly to 2 decimal places\n",
        "- 5 points: formatting the total output correctly to 2 decimal places\n",
        "\n",
        "Example:\n",
        "\n",
        "```\n",
        "Enter the price of a meal: 10\n",
        "A 16% tip would be: 1.60\n",
        "The total including tip would be: 11.60\n",
        "```"
      ]
    },
    {
      "cell_type": "code",
      "execution_count": 14,
      "metadata": {
        "id": "PWJgNWbyg9eR",
        "outputId": "7e3f1f64-b3e8-4d3f-baa3-dd5bfb4ff087",
        "colab": {
          "base_uri": "https://localhost:8080/"
        }
      },
      "outputs": [
        {
          "output_type": "stream",
          "name": "stdout",
          "text": [
            "Enter the price of a meal:112\n",
            "A 16% tip would be: $17.92\n",
            "The total includes tip would be: $129.92\n"
          ]
        }
      ],
      "source": [
        "### Q2-1 Grading Tag: Please put your entire solution in this cell. Don't edit this line.\n",
        "\n",
        "price = float(input(\"Enter the price of a meal:\"))\n",
        "tip = price * 0.16\n",
        "total = price + tip\n",
        "\n",
        "print(f\"A 16% tip would be: ${tip:.2f}\")\n",
        "print(f\"The total includes tip would be: ${total:.2f}\")\n"
      ]
    },
    {
      "cell_type": "markdown",
      "metadata": {
        "id": "fra00esBg9eS"
      },
      "source": [
        "### 2-2. Gas Pump Informer (20 points)\n",
        "\n",
        "Write a script that prompts the user for a **number** of gallons of gasoline. Reprint that value, along with its conversion to other measurements:\n",
        "\n",
        "- Equivalent number of liters (format to 4 decimals)\n",
        "- Number of barrels of oil required to produce it (format to 3 decimals)\n",
        "- Price in U.S. dollars (format to 2 decimals)\n",
        "\n",
        "Figures to use:\n",
        "\n",
        "- 1 gallon is equivalent to 3.7854 liters.\n",
        "- 1 barrel of oil produces 19.5 gallons of gas.\n",
        "- The average price of gas is approximately $4.31 per gallon.\n",
        "\n",
        "Example:\n",
        "\n",
        "```\n",
        "Please enter a number of gallons of gasoline: 10\n",
        "10 gallons of gasoline is equivalent to 37.8540 liters\n",
        "Requires 0.513 barrels of oil to produce\n",
        "The price in U.S. dollars is approximately $43.10\n",
        "```"
      ]
    },
    {
      "cell_type": "code",
      "execution_count": null,
      "metadata": {
        "id": "_9aHUv22g9eT",
        "outputId": "b86f4845-09b8-4366-8cf4-07fc57095fd6",
        "colab": {
          "base_uri": "https://localhost:8080/"
        }
      },
      "outputs": [
        {
          "output_type": "stream",
          "name": "stdout",
          "text": [
            "Please enter a number of gallons of gasoline:\n",
            "10\n",
            "10 gallons of gasoline is equivalent to 37.8540 liters\n",
            "Requires 0.513 barrels of oil to produce\n",
            "The price in U.S. dollars is approximately $41.30\n"
          ]
        }
      ],
      "source": [
        "### Q2-2 Grading Tag: Please put your entire solution in this cell. Don't edit this line.\n",
        "\n",
        "gallons = 0\n",
        "\n",
        "print('Please enter a number of gallons of gasoline:')\n",
        "gallons = int(input())\n",
        "\n",
        "liters = gallons * 3.7854\n",
        "barrels = gallons / 19.5\n",
        "price = gallons * 4.13\n",
        "\n",
        "print(f'{gallons} gallons of gasoline is equivalent to {liters:.4f} liters')\n",
        "print(f'Requires {barrels:.3f} barrels of oil to produce')\n",
        "print(f'The price in U.S. dollars is approximately ${price:.2f}')\n"
      ]
    },
    {
      "cell_type": "markdown",
      "metadata": {
        "id": "1chSVNb0g9eT"
      },
      "source": [
        "### 2-3. Number Averager (20 points)\n",
        "\n",
        "Write a script that prompts the user for **two numbers**, a and b. Then, prompt the user to enter a type of average out of the three options below. Make it so the user would just type in a **number** 1, 2 or 3 for the average (i.e. 1 for arithmetic mean, 2 for geometric mean, or 3 for root-mean-square). This numerical selection is an example of how to give the user a simple response that will get around potential spelling errors and head off user frustration. This design decision makes the user interaction more robust. Output the correct average, based on what the user selected. Format the answer to four decimal places.\n",
        "\n",
        "1. The arithmetic mean:  $(a + b) / 2 $\n",
        "2. The geometric mean:  $\\sqrt{ab}$\n",
        "3. The root-mean-square: $\\sqrt{\\frac{a^2 + b^2}{2}}$\n",
        "\n",
        "Example:\n",
        "```\n",
        "Please provide the first number to average: 1\n",
        "Please provide the second number to average: 2\n",
        "Please select the type of average.\n",
        "    1. The arithmetic mean: (a + b)/2\n",
        "    2. The geometric mean: sqrt(a * b)\n",
        "    3. The root-mean-square: sqrt((a^2 + b^2)/2)\n",
        "Enter a number (1, 2 or 3) from the list above: 1\n",
        "\n",
        "The arithmetic mean is: 1.5000\n",
        "```"
      ]
    },
    {
      "cell_type": "code",
      "execution_count": null,
      "metadata": {
        "id": "tpue1Q7ag9eT",
        "outputId": "11036614-1544-453c-ca48-0c1594869b70",
        "colab": {
          "base_uri": "https://localhost:8080/"
        }
      },
      "outputs": [
        {
          "output_type": "stream",
          "name": "stdout",
          "text": [
            "Please provide the first number to average:\n",
            "1\n",
            "Please provide the second number to average:\n",
            "2\n",
            "Please select the type of average.\n",
            "\tThe arithmetic mean: (a + b)/2\n",
            "\tThe geometric mean: sqrt(a * b)\n",
            "\tThe root-mean-square: sqrt((a^2 + b^2)/2)\n",
            "Enter a number (1, 2, or 3) from the list above: \n",
            "3\n",
            "The root-mean-square is : 1.5811\n"
          ]
        }
      ],
      "source": [
        "### Q2-3 Grading Tag: Please put your entire solution in this cell. Don't edit this line.\n",
        "\n",
        "import math\n",
        "\n",
        "firstNumber = 0\n",
        "secondNumber = 0\n",
        "calcNum = 0\n",
        "userChoice = 0\n",
        "\n",
        "print('Please provide the first number to average:')\n",
        "firstNumber = int(input())\n",
        "\n",
        "print('Please provide the second number to average:')\n",
        "secondNumber = int(input())\n",
        "\n",
        "print('Please select the type of average.')\n",
        "print('\\tThe arithmetic mean: (a + b)/2')\n",
        "print('\\tThe geometric mean: sqrt(a * b)')\n",
        "print('\\tThe root-mean-square: sqrt((a^2 + b^2)/2)')\n",
        "print('Enter a number (1, 2, or 3) from the list above: ')\n",
        "userChoice = int(input())\n",
        "\n",
        "if userChoice == 1:\n",
        "    calcNum = (firstNumber + secondNumber)/2\n",
        "    print(f'The arithmetic mean is : {calcNum:.4f}')\n",
        "elif userChoice == 2:\n",
        "    calcNum = math.sqrt(firstNumber * secondNumber)\n",
        "    print(f'The gemetric mean is : {calcNum:.4f}')\n",
        "elif userChoice == 3:\n",
        "    calcNum = math.sqrt((firstNumber**2 + secondNumber**2)/2)\n",
        "    print(f'The root-mean-square is : {calcNum:.4f}')\n",
        "\n",
        "\n",
        "\n"
      ]
    },
    {
      "cell_type": "markdown",
      "metadata": {
        "id": "Pfiuw8kGg9eU"
      },
      "source": [
        "### 2-4. Income Tax (20 points)\n",
        "\n",
        "The mythical island nation of Laskoatu has a rather simple tax code.  The first 1000 dollars of income is taxed at 5%.  The next 1000 dollars is taxed at 10%.  Any income beyond the first 2000 dollars is taxed at 15%.  Complete the following script so that it asks the user for his or her income (a **number**) and outputs the amount of tax owed. Format numbers to 2 decimal places.\n",
        "\n",
        "Example:\n",
        "```\n",
        "Please enter your income: 1500\n",
        "\n",
        "The tax owed is: $100.00\n",
        "```"
      ]
    },
    {
      "cell_type": "code",
      "execution_count": null,
      "metadata": {
        "id": "o2Woxo6yg9eU",
        "outputId": "119b3cfa-7a86-4631-de4f-59315bee5ba3",
        "colab": {
          "base_uri": "https://localhost:8080/"
        }
      },
      "outputs": [
        {
          "output_type": "stream",
          "name": "stdout",
          "text": [
            "Please enter your income: \n",
            "20000\n",
            "The tax owed is: $2850.00\n"
          ]
        }
      ],
      "source": [
        "### Q2-4 Grading Tag: Please put your entire solution in this cell. Don't edit this line.\n",
        "\n",
        "earnedIncome = 0\n",
        "taxOwed = 0\n",
        "\n",
        "print('Please enter your income: ')\n",
        "earnedIncome = float(input())\n",
        "\n",
        "if earnedIncome <= 1000:\n",
        "  taxOwed = .05 * earnedIncome\n",
        "elif earnedIncome <= 2000:\n",
        "  earnedIncome = earnedIncome - 1000\n",
        "  taxOwed = (.10 * earnedIncome)+ 50\n",
        "else:\n",
        "  earnedIncome = earnedIncome - 2000\n",
        "  taxOwed = (.15 * earnedIncome)+ 150\n",
        "\n",
        "\n",
        "print('The tax owed is: ${:.2f}'.format(taxOwed))"
      ]
    },
    {
      "cell_type": "markdown",
      "metadata": {
        "id": "GPvSpT_3g9eU"
      },
      "source": [
        "### 2-5. Palindrome (20 points)\n",
        "\n",
        "Write a script that prompts the user for a name (this input will be a **1 word string**). Using a while loop that counts downwards, print the letters of the name reversed (hint: you can use print(var, end='') in each iteration of the loop). You cannot use the 'reverse' function or the string slicing [::-1] method for this problem! You should use s.lower() and s.upper(), as appropriate, to change the string to lowercase and print it out with only the first letter of the reversed word in uppercase. If the name is the same forward and backwards, print \"Palindrome!\" on the next line. Make sure your code prints the sample examples exactly as shown below.\n",
        "\n",
        "Hint: You can use string concatenation in place of the reverse or string slicing [::-1] methods.\n",
        "\n",
        "Examples:\n",
        "```\n",
        "Enter your name: Paul\n",
        "Luap\n",
        "\n",
        "Enter your name: ANA\n",
        "Ana\n",
        "Palindrome!\n",
        "```"
      ]
    },
    {
      "cell_type": "code",
      "execution_count": null,
      "metadata": {
        "id": "r5bRMVcYg9eU",
        "outputId": "5036904b-676f-40fc-df64-ebd1082f9859",
        "colab": {
          "base_uri": "https://localhost:8080/"
        }
      },
      "outputs": [
        {
          "output_type": "stream",
          "name": "stdout",
          "text": [
            "Enter your name: \n",
            "Anna\n",
            "Anna\n",
            "Palindrome!\n"
          ]
        }
      ],
      "source": [
        "### Q2-5 Grading Tag: Please put your entire solution in this cell. Don't edit this line.\n",
        "\n",
        "\n",
        "name = ''\n",
        "reverseName = ''\n",
        "newName = ''\n",
        "\n",
        "print('Enter your name: ')\n",
        "name = input()\n",
        "\n",
        "i = len(name) - 1\n",
        "\n",
        "while i >= 0:\n",
        "  newName = newName + (name[i])\n",
        "  i -= 1\n",
        "\n",
        "newName = newName.capitalize()\n",
        "print(newName)\n",
        "\n",
        "\n",
        "if name.lower() == newName.lower():\n",
        "  print('Palindrome!')\n"
      ]
    }
  ],
  "metadata": {
    "anaconda-cloud": {},
    "kernelspec": {
      "display_name": "Python 3",
      "language": "python",
      "name": "python3"
    },
    "language_info": {
      "codemirror_mode": {
        "name": "ipython",
        "version": 3
      },
      "file_extension": ".py",
      "mimetype": "text/x-python",
      "name": "python",
      "nbconvert_exporter": "python",
      "pygments_lexer": "ipython3",
      "version": "3.8.8"
    },
    "colab": {
      "provenance": []
    }
  },
  "nbformat": 4,
  "nbformat_minor": 0
}